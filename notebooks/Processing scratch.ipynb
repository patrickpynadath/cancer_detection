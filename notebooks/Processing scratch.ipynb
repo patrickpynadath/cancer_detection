{
 "cells": [
  {
   "cell_type": "code",
   "execution_count": 1,
   "id": "aea29310",
   "metadata": {},
   "outputs": [],
   "source": [
    "import os "
   ]
  },
  {
   "cell_type": "code",
   "execution_count": 2,
   "id": "007ce489",
   "metadata": {},
   "outputs": [],
   "source": [
    "os.chdir('../')"
   ]
  },
  {
   "cell_type": "code",
   "execution_count": 3,
   "id": "89d1f5e2",
   "metadata": {},
   "outputs": [],
   "source": [
    "from pydicom import dcmread\n",
    "import pandas as pd \n",
    "import numpy as np\n",
    "from processing import MammographyPreprocessor\n",
    "import matplotlib.pyplot as plt\n",
    "from tqdm.notebook import tqdm, trange\n",
    "from PIL import Image\n",
    "from torch.utils.data import Dataset, DataLoader\n",
    "import torch\n",
    "from torchmetrics import Accuracy"
   ]
  },
  {
   "cell_type": "code",
   "execution_count": 4,
   "id": "92a963e8",
   "metadata": {},
   "outputs": [],
   "source": [
    "# getting a list of all the training data folders \n",
    "training_data_paths = [f.path for f in os.scandir('data/train_images') if f.is_dir()]\n",
    "training_csv = pd.read_csv('data/train.csv')\n",
    "test_csv = pd.read_csv('data/test.csv')"
   ]
  },
  {
   "cell_type": "code",
   "execution_count": 5,
   "id": "24b62509",
   "metadata": {},
   "outputs": [],
   "source": [
    "train_csv = pd.read_csv('data/train.csv')"
   ]
  },
  {
   "cell_type": "code",
   "execution_count": 6,
   "id": "ce023ea6",
   "metadata": {},
   "outputs": [],
   "source": [
    "class XRayDataset(Dataset):\n",
    "    def __init__(self, base_dir, image_ids):\n",
    "        self.base_dir = base_dir\n",
    "        self.image_ids = image_ids\n",
    "        train_csv = pd.read_csv(f'{base_dir}/train.csv')\n",
    "        train_csv.index = train_csv['image_id']\n",
    "        self.df = train_csv\n",
    "        \n",
    "        \n",
    "    def __len__(self):\n",
    "        return len(self.image_ids)\n",
    "    \n",
    "    def __getitem__(self, i):\n",
    "        image_id = self.image_ids[i]\n",
    "        patient_id = self.df.loc[image_id]['patient_id']\n",
    "        xray = Image.open(f'{self.base_dir}/train_images/{patient_id}/{image_id}.png')\n",
    "        label = self.df.loc[image_id]['cancer']\n",
    "        return torch.tensor(np.array(xray)/255, dtype=torch.float)[None, :], torch.tensor(label, dtype=torch.long)"
   ]
  },
  {
   "cell_type": "code",
   "execution_count": 7,
   "id": "b2ecdcfe",
   "metadata": {},
   "outputs": [],
   "source": [
    "train_dataset = XRayDataset('data', train_csv['image_id'])"
   ]
  },
  {
   "cell_type": "code",
   "execution_count": 9,
   "id": "2fbcbe06",
   "metadata": {},
   "outputs": [],
   "source": [
    "X = train_csv['image_id']\n",
    "y = train_csv['cancer']\n",
    "from sklearn.model_selection import train_test_split\n",
    "X_train_total, X_test, y_train_total, y_tetst = train_test_split(X, y, test_size=.25)\n",
    "X_train, X_val, y_train, y_val = train_test_split(X_train_total, y_train_total, test_size=.25)"
   ]
  },
  {
   "cell_type": "code",
   "execution_count": 18,
   "id": "d0069f0c",
   "metadata": {},
   "outputs": [],
   "source": [
    "trainset = XRayDataset('data', list(X_train.values))\n",
    "testset = XRayDataset('data', list(X_test.values))\n",
    "valset = XRayDataset('data', list(X_val.values))\n",
    "bs = 64\n",
    "train_loader, test_loader = DataLoader(trainset, batch_size=64), DataLoader(testset, batch_size=64)\n",
    "val_loader = DataLoader(valset, batch_size=bs)"
   ]
  },
  {
   "cell_type": "code",
   "execution_count": 11,
   "id": "44314faa",
   "metadata": {},
   "outputs": [],
   "source": [
    "sample = next(iter(train_loader))"
   ]
  },
  {
   "cell_type": "code",
   "execution_count": 12,
   "id": "14336856",
   "metadata": {},
   "outputs": [
    {
     "data": {
      "text/plain": [
       "torch.Size([1, 256, 128])"
      ]
     },
     "execution_count": 12,
     "metadata": {},
     "output_type": "execute_result"
    }
   ],
   "source": [
    "sample[0][0].shape"
   ]
  },
  {
   "cell_type": "code",
   "execution_count": 13,
   "id": "0c14b7df",
   "metadata": {},
   "outputs": [],
   "source": [
    "from models import ResNet"
   ]
  },
  {
   "cell_type": "code",
   "execution_count": 14,
   "id": "650715dd",
   "metadata": {},
   "outputs": [],
   "source": [
    "resnet = ResNet(depth=56, block_name='BottleNeck', num_classes=2, device='cpu')"
   ]
  },
  {
   "cell_type": "code",
   "execution_count": 15,
   "id": "2c600159",
   "metadata": {},
   "outputs": [],
   "source": [
    "import pytorch_lightning as pl \n",
    "import torch.nn as nn\n",
    "import torch "
   ]
  },
  {
   "cell_type": "code",
   "execution_count": 23,
   "id": "91a5ab2e",
   "metadata": {},
   "outputs": [],
   "source": [
    "class PLResNet(pl.LightningModule):\n",
    "    def __init__(self, resnet):\n",
    "        super().__init__()\n",
    "        self.resnet = resnet\n",
    "        self.criterion = nn.CrossEntropyLoss()\n",
    "        \n",
    "    def forward(self, x):\n",
    "        return self.resnet(x)\n",
    "        \n",
    "    def training_step(self, batch, batch_idx):\n",
    "        x, y = batch \n",
    "        logits = self.resnet(x)\n",
    "        loss = self.criterion(logits, y)\n",
    "        return loss\n",
    "    \n",
    "    def validation_step(self, batch, batch_idx):\n",
    "        x, y = batch \n",
    "        logits = self(x)\n",
    "        loss = self.criterion(logits, y)\n",
    "        pred = torch.argmax(logits, dim=1)\n",
    "        accuracy = Accuracy(task='binary')\n",
    "        acc = accuracy(pred, y)\n",
    "        self.log('accuracy', acc, on_epoch=True)\n",
    "        return loss\n",
    "    \n",
    "    def configure_optimizers(self):\n",
    "        optimizer = torch.optim.Adam(self.parameters(), lr=1e-3)\n",
    "        return optimizer"
   ]
  },
  {
   "cell_type": "code",
   "execution_count": 24,
   "id": "4fa24566",
   "metadata": {},
   "outputs": [
    {
     "name": "stderr",
     "output_type": "stream",
     "text": [
      "GPU available: False, used: False\n",
      "TPU available: False, using: 0 TPU cores\n",
      "IPU available: False, using: 0 IPUs\n",
      "HPU available: False, using: 0 HPUs\n",
      "\n",
      "  | Name      | Type             | Params\n",
      "-----------------------------------------------\n",
      "0 | resnet    | ResNet           | 589 K \n",
      "1 | criterion | CrossEntropyLoss | 0     \n",
      "-----------------------------------------------\n",
      "589 K     Trainable params\n",
      "0         Non-trainable params\n",
      "589 K     Total params\n",
      "2.358     Total estimated model params size (MB)\n"
     ]
    },
    {
     "data": {
      "application/vnd.jupyter.widget-view+json": {
       "model_id": "",
       "version_major": 2,
       "version_minor": 0
      },
      "text/plain": [
       "Sanity Checking: 0it [00:00, ?it/s]"
      ]
     },
     "metadata": {},
     "output_type": "display_data"
    },
    {
     "name": "stderr",
     "output_type": "stream",
     "text": [
      "/opt/anaconda3/envs/cancer_detection/lib/python3.10/site-packages/pytorch_lightning/trainer/connectors/data_connector.py:224: PossibleUserWarning: The dataloader, train_dataloader, does not have many workers which may be a bottleneck. Consider increasing the value of the `num_workers` argument` (try 16 which is the number of cpus on this machine) in the `DataLoader` init to improve performance.\n",
      "  rank_zero_warn(\n"
     ]
    },
    {
     "data": {
      "application/vnd.jupyter.widget-view+json": {
       "model_id": "010c7e54750f4fb5b7b63ecf66ac2e42",
       "version_major": 2,
       "version_minor": 0
      },
      "text/plain": [
       "Training: 0it [00:00, ?it/s]"
      ]
     },
     "metadata": {},
     "output_type": "display_data"
    },
    {
     "name": "stderr",
     "output_type": "stream",
     "text": [
      "/opt/anaconda3/envs/cancer_detection/lib/python3.10/site-packages/pytorch_lightning/trainer/call.py:48: UserWarning: Detected KeyboardInterrupt, attempting graceful shutdown...\n",
      "  rank_zero_warn(\"Detected KeyboardInterrupt, attempting graceful shutdown...\")\n"
     ]
    }
   ],
   "source": [
    "pl_resnet = PLResNet(resnet)\n",
    "trainer = pl.Trainer()\n",
    "trainer.fit(pl_resnet, train_loader, val_loader)"
   ]
  },
  {
   "cell_type": "code",
   "execution_count": null,
   "id": "f716097b",
   "metadata": {},
   "outputs": [],
   "source": []
  }
 ],
 "metadata": {
  "kernelspec": {
   "display_name": "Python 3 (ipykernel)",
   "language": "python",
   "name": "python3"
  },
  "language_info": {
   "codemirror_mode": {
    "name": "ipython",
    "version": 3
   },
   "file_extension": ".py",
   "mimetype": "text/x-python",
   "name": "python",
   "nbconvert_exporter": "python",
   "pygments_lexer": "ipython3",
   "version": "3.10.9"
  }
 },
 "nbformat": 4,
 "nbformat_minor": 5
}
